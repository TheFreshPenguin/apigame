{
 "cells": [
  {
   "cell_type": "code",
   "execution_count": 1,
   "metadata": {},
   "outputs": [],
   "source": [
    "\"\"\"Perlin noise implementation.\"\"\"\n",
    "# Licensed under ISC\n",
    "from itertools import product\n",
    "import math\n",
    "import random\n",
    "\n",
    "\n",
    "def smoothstep(t):\n",
    "    \"\"\"Smooth curve with a zero derivative at 0 and 1, making it useful for\n",
    "    interpolating.\n",
    "    \"\"\"\n",
    "    return t * t * (3. - 2. * t)\n",
    "\n",
    "\n",
    "def lerp(t, a, b):\n",
    "    \"\"\"Linear interpolation between a and b, given a fraction t.\"\"\"\n",
    "    return a + t * (b - a)\n",
    "\n",
    "\n",
    "class PerlinNoiseFactory(object):\n",
    "    \"\"\"Callable that produces Perlin noise for an arbitrary point in an\n",
    "    arbitrary number of dimensions.  The underlying grid is aligned with the\n",
    "    integers.\n",
    "    There is no limit to the coordinates used; new gradients are generated on\n",
    "    the fly as necessary.\n",
    "    \"\"\"\n",
    "\n",
    "    def __init__(self, dimension, octaves=1, tile=(), unbias=False):\n",
    "        \"\"\"Create a new Perlin noise factory in the given number of dimensions,\n",
    "        which should be an integer and at least 1.\n",
    "        More octaves create a foggier and more-detailed noise pattern.  More\n",
    "        than 4 octaves is rather excessive.\n",
    "        ``tile`` can be used to make a seamlessly tiling pattern.  For example:\n",
    "            pnf = PerlinNoiseFactory(2, tile=(0, 3))\n",
    "        This will produce noise that tiles every 3 units vertically, but never\n",
    "        tiles horizontally.\n",
    "        If ``unbias`` is true, the smoothstep function will be applied to the\n",
    "        output before returning it, to counteract some of Perlin noise's\n",
    "        significant bias towards the center of its output range.\n",
    "        \"\"\"\n",
    "        self.dimension = dimension\n",
    "        self.octaves = octaves\n",
    "        self.tile = tile + (0,) * dimension\n",
    "        self.unbias = unbias\n",
    "\n",
    "        # For n dimensions, the range of Perlin noise is ±sqrt(n)/2; multiply\n",
    "        # by this to scale to ±1\n",
    "        self.scale_factor = 2 * dimension ** -0.5\n",
    "\n",
    "        self.gradient = {}\n",
    "\n",
    "    def _generate_gradient(self):\n",
    "        # Generate a random unit vector at each grid point -- this is the\n",
    "        # \"gradient\" vector, in that the grid tile slopes towards it\n",
    "\n",
    "        # 1 dimension is special, since the only unit vector is trivial;\n",
    "        # instead, use a slope between -1 and 1\n",
    "        if self.dimension == 1:\n",
    "            return (random.uniform(-1, 1),)\n",
    "\n",
    "        # Generate a random point on the surface of the unit n-hypersphere;\n",
    "        # this is the same as a random unit vector in n dimensions.  Thanks\n",
    "        # to: http://mathworld.wolfram.com/SpherePointPicking.html\n",
    "        # Pick n normal random variables with stddev 1\n",
    "        random_point = [random.gauss(0, 1) for _ in range(self.dimension)]\n",
    "        # Then scale the result to a unit vector\n",
    "        scale = sum(n * n for n in random_point) ** -0.5\n",
    "        return tuple(coord * scale for coord in random_point)\n",
    "\n",
    "    def get_plain_noise(self, *point):\n",
    "        \"\"\"Get plain noise for a single point, without taking into account\n",
    "        either octaves or tiling.\n",
    "        \"\"\"\n",
    "        if len(point) != self.dimension:\n",
    "            raise ValueError(\"Expected {} values, got {}\".format(\n",
    "                self.dimension, len(point)))\n",
    "\n",
    "        # Build a list of the (min, max) bounds in each dimension\n",
    "        grid_coords = []\n",
    "        for coord in point:\n",
    "            min_coord = math.floor(coord)\n",
    "            max_coord = min_coord + 1\n",
    "            grid_coords.append((min_coord, max_coord))\n",
    "\n",
    "        # Compute the dot product of each gradient vector and the point's\n",
    "        # distance from the corresponding grid point.  This gives you each\n",
    "        # gradient's \"influence\" on the chosen point.\n",
    "        dots = []\n",
    "        for grid_point in product(*grid_coords):\n",
    "            if grid_point not in self.gradient:\n",
    "                self.gradient[grid_point] = self._generate_gradient()\n",
    "            gradient = self.gradient[grid_point]\n",
    "\n",
    "            dot = 0\n",
    "            for i in range(self.dimension):\n",
    "                dot += gradient[i] * (point[i] - grid_point[i])\n",
    "            dots.append(dot)\n",
    "\n",
    "        # Interpolate all those dot products together.  The interpolation is\n",
    "        # done with smoothstep to smooth out the slope as you pass from one\n",
    "        # grid cell into the next.\n",
    "        # Due to the way product() works, dot products are ordered such that\n",
    "        # the last dimension alternates: (..., min), (..., max), etc.  So we\n",
    "        # can interpolate adjacent pairs to \"collapse\" that last dimension.  Then\n",
    "        # the results will alternate in their second-to-last dimension, and so\n",
    "        # forth, until we only have a single value left.\n",
    "        dim = self.dimension\n",
    "        while len(dots) > 1:\n",
    "            dim -= 1\n",
    "            s = smoothstep(point[dim] - grid_coords[dim][0])\n",
    "\n",
    "            next_dots = []\n",
    "            while dots:\n",
    "                next_dots.append(lerp(s, dots.pop(0), dots.pop(0)))\n",
    "\n",
    "            dots = next_dots\n",
    "\n",
    "        return dots[0] * self.scale_factor\n",
    "\n",
    "    def __call__(self, *point):\n",
    "        \"\"\"Get the value of this Perlin noise function at the given point.  The\n",
    "        number of values given should match the number of dimensions.\n",
    "        \"\"\"\n",
    "        ret = 0\n",
    "        for o in range(self.octaves):\n",
    "            o2 = 1 << o\n",
    "            new_point = []\n",
    "            for i, coord in enumerate(point):\n",
    "                coord *= o2\n",
    "                if self.tile[i]:\n",
    "                    coord %= self.tile[i] * o2\n",
    "                new_point.append(coord)\n",
    "            ret += self.get_plain_noise(*new_point) / o2\n",
    "\n",
    "        # Need to scale n back down since adding all those extra octaves has\n",
    "        # probably expanded it beyond ±1\n",
    "        # 1 octave: ±1\n",
    "        # 2 octaves: ±1½\n",
    "        # 3 octaves: ±1¾\n",
    "        ret /= 2 - 2 ** (1 - self.octaves)\n",
    "\n",
    "        if self.unbias:\n",
    "            # The output of the plain Perlin noise algorithm has a fairly\n",
    "            # strong bias towards the center due to the central limit theorem\n",
    "            # -- in fact the top and bottom 1/8 virtually never happen.  That's\n",
    "            # a quarter of our entire output range!  If only we had a function\n",
    "            # in [0..1] that could introduce a bias towards the endpoints...\n",
    "            r = (ret + 1) / 2\n",
    "            # Doing it this many times is a completely made-up heuristic.\n",
    "            for _ in range(int(self.octaves / 2 + 0.5)):\n",
    "                r = smoothstep(r)\n",
    "            ret = r * 2 - 1\n",
    "\n",
    "        return ret"
   ]
  },
  {
   "cell_type": "code",
   "execution_count": 130,
   "metadata": {},
   "outputs": [],
   "source": [
    "import numpy as np\n",
    "from PIL import Image\n",
    "from IPython import display\n",
    "from tqdm import tqdm\n",
    "import matplotlib.pyplot as plt"
   ]
  },
  {
   "cell_type": "code",
   "execution_count": 148,
   "metadata": {},
   "outputs": [],
   "source": [
    "pnf = PerlinNoiseFactory(dimension=2,octaves=4,unbias=True)"
   ]
  },
  {
   "cell_type": "code",
   "execution_count": 149,
   "metadata": {},
   "outputs": [],
   "source": [
    "frameSize = 500"
   ]
  },
  {
   "cell_type": "code",
   "execution_count": 150,
   "metadata": {},
   "outputs": [],
   "source": [
    "noise = np.zeros((frameSize,frameSize))"
   ]
  },
  {
   "cell_type": "code",
   "execution_count": 194,
   "metadata": {},
   "outputs": [
    {
     "name": "stderr",
     "output_type": "stream",
     "text": [
      "100%|██████████| 500/500 [00:11<00:00, 43.82it/s]\n"
     ]
    }
   ],
   "source": [
    "# 0.10 -> 0.15\n",
    "\n",
    "for i in tqdm(range(frameSize)):\n",
    "    for j in range(frameSize):\n",
    "        noise.itemset((i,j),pnf(((i+1)/frameSize+1055),((j+1)/frameSize+1055)))"
   ]
  },
  {
   "cell_type": "code",
   "execution_count": 195,
   "metadata": {},
   "outputs": [],
   "source": [
    "noise2 = (noise + 1)/2"
   ]
  },
  {
   "cell_type": "code",
   "execution_count": 196,
   "metadata": {},
   "outputs": [],
   "source": [
    "noise3 = noise2*255"
   ]
  },
  {
   "cell_type": "code",
   "execution_count": 197,
   "metadata": {},
   "outputs": [],
   "source": [
    "noise4 = noise3.round()"
   ]
  },
  {
   "cell_type": "code",
   "execution_count": 198,
   "metadata": {},
   "outputs": [
    {
     "data": {
      "image/png": "[encoded data removed]",
      "text/plain": [
       "<Figure size 432x288 with 1 Axes>"
      ]
     },
     "metadata": {
      "needs_background": "light"
     },
     "output_type": "display_data"
    }
   ],
   "source": [
    "plt.imshow(noise4, cmap='gray')\n",
    "plt.show()"
   ]
  },
  {
   "cell_type": "code",
   "execution_count": 203,
   "metadata": {},
   "outputs": [],
   "source": [
    "noise5 = (noise4/(100/2)).astype(int)"
   ]
  },
  {
   "cell_type": "code",
   "execution_count": 204,
   "metadata": {},
   "outputs": [
    {
     "data": {
      "image/png": "[encoded data removed]",
      "text/plain": [
       "<Figure size 432x288 with 1 Axes>"
      ]
     },
     "metadata": {
      "needs_background": "light"
     },
     "output_type": "display_data"
    }
   ],
   "source": [
    "plt.imshow(noise5, cmap='gray')\n",
    "plt.show()"
   ]
  },
  {
   "cell_type": "code",
   "execution_count": null,
   "metadata": {},
   "outputs": [],
   "source": []
  }
 ],
 "metadata": {
  "kernelspec": {
   "display_name": "Python 3",
   "language": "python",
   "name": "python3"
  },
  "language_info": {
   "codemirror_mode": {
    "name": "ipython",
    "version": 3
   },
   "file_extension": ".py",
   "mimetype": "text/x-python",
   "name": "python",
   "nbconvert_exporter": "python",
   "pygments_lexer": "ipython3",
   "version": "3.7.0"
  }
 },
 "nbformat": 4,
 "nbformat_minor": 2
}
